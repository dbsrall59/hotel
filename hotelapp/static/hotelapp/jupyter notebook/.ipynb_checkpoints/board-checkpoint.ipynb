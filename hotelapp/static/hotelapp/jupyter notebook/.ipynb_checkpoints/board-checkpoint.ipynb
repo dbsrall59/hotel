{
 "cells": [
  {
   "cell_type": "code",
   "execution_count": 10,
   "id": "fdf09b26",
   "metadata": {},
   "outputs": [],
   "source": [
    "import pandas as pd"
   ]
  },
  {
   "cell_type": "code",
   "execution_count": 11,
   "id": "931388d2",
   "metadata": {},
   "outputs": [],
   "source": [
    "import cx_Oracle"
   ]
  },
  {
   "cell_type": "code",
   "execution_count": 12,
   "id": "caa8d4d0",
   "metadata": {},
   "outputs": [],
   "source": [
    "dsn = cx_Oracle.makedsn('localhost', 1521, 'xe')"
   ]
  },
  {
   "cell_type": "code",
   "execution_count": 13,
   "id": "8121ec25",
   "metadata": {},
   "outputs": [],
   "source": [
    "conn = cx_Oracle.connect('hotel','dbdb', dsn)"
   ]
  },
  {
   "cell_type": "code",
   "execution_count": 14,
   "id": "ef97f664",
   "metadata": {},
   "outputs": [],
   "source": [
    "cursor = conn.cursor()"
   ]
  },
  {
   "cell_type": "code",
   "execution_count": 15,
   "id": "59a6eeed",
   "metadata": {},
   "outputs": [
    {
     "data": {
      "text/plain": [
       "<cx_Oracle.Cursor on <cx_Oracle.Connection to hotel@(DESCRIPTION=(ADDRESS=(PROTOCOL=TCP)(HOST=localhost)(PORT=1521))(CONNECT_DATA=(SID=xe)))>>"
      ]
     },
     "execution_count": 15,
     "metadata": {},
     "output_type": "execute_result"
    }
   ],
   "source": [
    "sql = \"\"\"select post_id as \"번호\", \n",
    "                decode(post_type,\n",
    "                        1, '문의글',\n",
    "                        0, '후기글') as \"구분\", \n",
    "                post_title as \"제목\", \n",
    "                mem_id as \"글쓴이\", \n",
    "                post_date as \"작성일\", \n",
    "                post_count as \"조회수\"\n",
    "                from post inner join member\n",
    "                    on(mem_inid = post_mem)\n",
    "         order by post_id desc\n",
    "\n",
    "\"\"\"\n",
    "cursor.execute(sql)"
   ]
  },
  {
   "cell_type": "code",
   "execution_count": 16,
   "id": "2aa3892d",
   "metadata": {},
   "outputs": [],
   "source": [
    "row = cursor.fetchall()"
   ]
  },
  {
   "cell_type": "code",
   "execution_count": 17,
   "id": "dd4a22b4",
   "metadata": {},
   "outputs": [],
   "source": [
    "colname = cursor.description"
   ]
  },
  {
   "cell_type": "code",
   "execution_count": 18,
   "id": "bef14314",
   "metadata": {},
   "outputs": [],
   "source": [
    "cursor.close()"
   ]
  },
  {
   "cell_type": "code",
   "execution_count": 19,
   "id": "729743fc",
   "metadata": {},
   "outputs": [],
   "source": [
    "conn.close()"
   ]
  },
  {
   "cell_type": "code",
   "execution_count": 20,
   "id": "6674c098",
   "metadata": {},
   "outputs": [
    {
     "name": "stdout",
     "output_type": "stream",
     "text": [
      "['번호', '구분', '제목', '글쓴이', '작성일', '조회수']\n"
     ]
    }
   ],
   "source": [
    "col = []\n",
    "for i in colname:\n",
    "    col.append(i[0])\n"
   ]
  },
  {
   "cell_type": "code",
   "execution_count": 24,
   "id": "b072f2ea",
   "metadata": {},
   "outputs": [
    {
     "name": "stdout",
     "output_type": "stream",
     "text": [
      "      번호   구분         제목            글쓴이        작성일  조회수\n",
      "0    199  문의글  이 방 넓은가요?         jgewvm 2018-03-17   22\n",
      "1    198  문의글  이 방 넓은가요?  qyvpcqirfnxtd 2018-10-24   47\n",
      "2    197  문의글     문의합니다.           rbgu 2018-08-10   67\n",
      "3    196  문의글  이 방 넓은가요?  andxtslwvlfmm 2020-09-10    7\n",
      "4    195  후기글       안좋아요    bprxbnsmoxs 2015-04-08   55\n",
      "..   ...  ...        ...            ...        ...  ...\n",
      "194    5  후기글  잘 놀다 갑니다.  kdnnwvubvkpaa 2016-11-14   15\n",
      "195    4  문의글  이 방 넓은가요?    ndwoieijshm 2018-06-19   52\n",
      "196    3  문의글  이 방 넓은가요?  qyvpcqirfnxtd 2017-06-25   52\n",
      "197    2  후기글       안좋아요        updeipb 2017-03-06   73\n",
      "198    1  문의글     문의합니다.          iquod 2017-09-13   72\n",
      "\n",
      "[199 rows x 6 columns]\n"
     ]
    }
   ],
   "source": [
    "bd = pd.DataFrame(row, columns = col)\n"
   ]
  },
  {
   "cell_type": "code",
   "execution_count": 22,
   "id": "009bf8a1",
   "metadata": {},
   "outputs": [
    {
     "ename": "SyntaxError",
     "evalue": "'return' outside function (3171543198.py, line 1)",
     "output_type": "error",
     "traceback": [
      "\u001b[1;36m  Input \u001b[1;32mIn [22]\u001b[1;36m\u001b[0m\n\u001b[1;33m    return row\u001b[0m\n\u001b[1;37m    ^\u001b[0m\n\u001b[1;31mSyntaxError\u001b[0m\u001b[1;31m:\u001b[0m 'return' outside function\n"
     ]
    }
   ],
   "source": []
  },
  {
   "cell_type": "code",
   "execution_count": null,
   "id": "1a690636",
   "metadata": {},
   "outputs": [],
   "source": []
  },
  {
   "cell_type": "code",
   "execution_count": null,
   "id": "fd973354",
   "metadata": {},
   "outputs": [],
   "source": []
  },
  {
   "cell_type": "code",
   "execution_count": null,
   "id": "788c52a5",
   "metadata": {},
   "outputs": [],
   "source": []
  },
  {
   "cell_type": "code",
   "execution_count": null,
   "id": "5bf8a282",
   "metadata": {},
   "outputs": [],
   "source": []
  },
  {
   "cell_type": "code",
   "execution_count": null,
   "id": "126203ce",
   "metadata": {},
   "outputs": [],
   "source": []
  },
  {
   "cell_type": "code",
   "execution_count": null,
   "id": "8b11e668",
   "metadata": {},
   "outputs": [],
   "source": []
  }
 ],
 "metadata": {
  "kernelspec": {
   "display_name": "django_kernel",
   "language": "python",
   "name": "django"
  },
  "language_info": {
   "codemirror_mode": {
    "name": "ipython",
    "version": 3
   },
   "file_extension": ".py",
   "mimetype": "text/x-python",
   "name": "python",
   "nbconvert_exporter": "python",
   "pygments_lexer": "ipython3",
   "version": "3.10.4"
  }
 },
 "nbformat": 4,
 "nbformat_minor": 5
}
