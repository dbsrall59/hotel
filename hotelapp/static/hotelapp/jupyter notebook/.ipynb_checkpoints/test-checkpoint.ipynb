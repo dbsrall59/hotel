{
 "cells": [
  {
   "cell_type": "code",
   "execution_count": 85,
   "id": "7aa0f1bb",
   "metadata": {},
   "outputs": [],
   "source": [
    "import pandas as pd"
   ]
  },
  {
   "cell_type": "code",
   "execution_count": 86,
   "id": "dfe8b0ca",
   "metadata": {},
   "outputs": [],
   "source": [
    "import cx_Oracle"
   ]
  },
  {
   "cell_type": "code",
   "execution_count": 87,
   "id": "5e1b296f",
   "metadata": {},
   "outputs": [
    {
     "name": "stdout",
     "output_type": "stream",
     "text": [
      "(DESCRIPTION=(ADDRESS=(PROTOCOL=TCP)(HOST=localhost)(PORT=1521))(CONNECT_DATA=(SID=xe)))\n"
     ]
    }
   ],
   "source": [
    "dsn = cx_Oracle.makedsn('localhost', 1521, 'xe')\n",
    "print(dsn)"
   ]
  },
  {
   "cell_type": "code",
   "execution_count": 88,
   "id": "80ee09be",
   "metadata": {},
   "outputs": [
    {
     "data": {
      "text/plain": [
       "<cx_Oracle.Connection to hotel@(DESCRIPTION=(ADDRESS=(PROTOCOL=TCP)(HOST=localhost)(PORT=1521))(CONNECT_DATA=(SID=xe)))>"
      ]
     },
     "execution_count": 88,
     "metadata": {},
     "output_type": "execute_result"
    }
   ],
   "source": [
    "conn = cx_Oracle.connect('hotel','dbdb',dsn)\n",
    "conn"
   ]
  },
  {
   "cell_type": "code",
   "execution_count": 89,
   "id": "17848457",
   "metadata": {},
   "outputs": [
    {
     "name": "stdout",
     "output_type": "stream",
     "text": [
      "<cx_Oracle.Cursor on <cx_Oracle.Connection to hotel@(DESCRIPTION=(ADDRESS=(PROTOCOL=TCP)(HOST=localhost)(PORT=1521))(CONNECT_DATA=(SID=xe)))>>\n"
     ]
    }
   ],
   "source": [
    "cursor = conn.cursor()\n",
    "print(cursor)"
   ]
  },
  {
   "cell_type": "code",
   "execution_count": 90,
   "id": "1bb06b9f",
   "metadata": {},
   "outputs": [
    {
     "data": {
      "text/plain": [
       "<cx_Oracle.Cursor on <cx_Oracle.Connection to hotel@(DESCRIPTION=(ADDRESS=(PROTOCOL=TCP)(HOST=localhost)(PORT=1521))(CONNECT_DATA=(SID=xe)))>>"
      ]
     },
     "execution_count": 90,
     "metadata": {},
     "output_type": "execute_result"
    }
   ],
   "source": [
    "sql =\"\"\"select mem_add as \"고객의 지역\",\n",
    "               sum(res_adult+res_kid +res_baby) as \"총 방문객 수\"\n",
    "        from member inner join reserve\n",
    "                on(mem_inid = res_mem)\n",
    "        group by mem_add\"\"\"\n",
    "cursor.execute(sql)"
   ]
  },
  {
   "cell_type": "code",
   "execution_count": 91,
   "id": "7a6215da",
   "metadata": {},
   "outputs": [
    {
     "name": "stdout",
     "output_type": "stream",
     "text": [
      "[('대전광역시', 40), ('광주광역시', 51), ('경기도', 35), ('세종특별시', 45), ('서울특별시', 37), ('전라도', 23), ('부산광역시', 50), ('강원도', 35), ('충청도', 59), ('대구광역시', 42), ('인천광역시', 33), ('울산광역시', 16), ('경상도', 2)]\n"
     ]
    }
   ],
   "source": [
    "row = cursor.fetchall()\n",
    "print(row)"
   ]
  },
  {
   "cell_type": "code",
   "execution_count": 92,
   "id": "0cb7e3b3",
   "metadata": {},
   "outputs": [],
   "source": [
    "colname = cursor.description"
   ]
  },
  {
   "cell_type": "code",
   "execution_count": 93,
   "id": "df3bd81c",
   "metadata": {},
   "outputs": [],
   "source": [
    "cursor.close()"
   ]
  },
  {
   "cell_type": "code",
   "execution_count": 94,
   "id": "76043853",
   "metadata": {},
   "outputs": [],
   "source": [
    "conn.close()"
   ]
  },
  {
   "cell_type": "code",
   "execution_count": 95,
   "id": "72660b2d",
   "metadata": {},
   "outputs": [],
   "source": [
    "col = []\n",
    "for i in colname:\n",
    "    col.append(i[0])"
   ]
  },
  {
   "cell_type": "code",
   "execution_count": 96,
   "id": "511cf7cf",
   "metadata": {
    "scrolled": true
   },
   "outputs": [
    {
     "data": {
      "text/html": [
       "<div>\n",
       "<style scoped>\n",
       "    .dataframe tbody tr th:only-of-type {\n",
       "        vertical-align: middle;\n",
       "    }\n",
       "\n",
       "    .dataframe tbody tr th {\n",
       "        vertical-align: top;\n",
       "    }\n",
       "\n",
       "    .dataframe thead th {\n",
       "        text-align: right;\n",
       "    }\n",
       "</style>\n",
       "<table border=\"1\" class=\"dataframe\">\n",
       "  <thead>\n",
       "    <tr style=\"text-align: right;\">\n",
       "      <th></th>\n",
       "      <th>고객의 지역</th>\n",
       "      <th>총 방문객 수</th>\n",
       "    </tr>\n",
       "  </thead>\n",
       "  <tbody>\n",
       "    <tr>\n",
       "      <th>0</th>\n",
       "      <td>대전광역시</td>\n",
       "      <td>40</td>\n",
       "    </tr>\n",
       "    <tr>\n",
       "      <th>1</th>\n",
       "      <td>광주광역시</td>\n",
       "      <td>51</td>\n",
       "    </tr>\n",
       "    <tr>\n",
       "      <th>2</th>\n",
       "      <td>경기도</td>\n",
       "      <td>35</td>\n",
       "    </tr>\n",
       "    <tr>\n",
       "      <th>3</th>\n",
       "      <td>세종특별시</td>\n",
       "      <td>45</td>\n",
       "    </tr>\n",
       "    <tr>\n",
       "      <th>4</th>\n",
       "      <td>서울특별시</td>\n",
       "      <td>37</td>\n",
       "    </tr>\n",
       "    <tr>\n",
       "      <th>5</th>\n",
       "      <td>전라도</td>\n",
       "      <td>23</td>\n",
       "    </tr>\n",
       "    <tr>\n",
       "      <th>6</th>\n",
       "      <td>부산광역시</td>\n",
       "      <td>50</td>\n",
       "    </tr>\n",
       "    <tr>\n",
       "      <th>7</th>\n",
       "      <td>강원도</td>\n",
       "      <td>35</td>\n",
       "    </tr>\n",
       "    <tr>\n",
       "      <th>8</th>\n",
       "      <td>충청도</td>\n",
       "      <td>59</td>\n",
       "    </tr>\n",
       "    <tr>\n",
       "      <th>9</th>\n",
       "      <td>대구광역시</td>\n",
       "      <td>42</td>\n",
       "    </tr>\n",
       "    <tr>\n",
       "      <th>10</th>\n",
       "      <td>인천광역시</td>\n",
       "      <td>33</td>\n",
       "    </tr>\n",
       "    <tr>\n",
       "      <th>11</th>\n",
       "      <td>울산광역시</td>\n",
       "      <td>16</td>\n",
       "    </tr>\n",
       "    <tr>\n",
       "      <th>12</th>\n",
       "      <td>경상도</td>\n",
       "      <td>2</td>\n",
       "    </tr>\n",
       "  </tbody>\n",
       "</table>\n",
       "</div>"
      ],
      "text/plain": [
       "   고객의 지역  총 방문객 수\n",
       "0   대전광역시       40\n",
       "1   광주광역시       51\n",
       "2     경기도       35\n",
       "3   세종특별시       45\n",
       "4   서울특별시       37\n",
       "5     전라도       23\n",
       "6   부산광역시       50\n",
       "7     강원도       35\n",
       "8     충청도       59\n",
       "9   대구광역시       42\n",
       "10  인천광역시       33\n",
       "11  울산광역시       16\n",
       "12    경상도        2"
      ]
     },
     "execution_count": 96,
     "metadata": {},
     "output_type": "execute_result"
    }
   ],
   "source": [
    "bd = pd.DataFrame(row, columns = col)\n",
    "bd"
   ]
  },
  {
   "cell_type": "code",
   "execution_count": 97,
   "id": "681f4175",
   "metadata": {},
   "outputs": [],
   "source": [
    "import matplotlib.pyplot as plt\n",
    "from matplotlib import font_manager, rc\n",
    "import platform\n",
    "\n",
    "if platform.system() == \"Windows\":\n",
    "    path = \"c:/Windows/Fonts/NanumSquareR.ttf\"\n",
    "    font_name = font_manager.FontProperties(fname=path).get_name()\n",
    "elif platform.system() == \"Darwin\":  # 맥인 경우 이쪽\n",
    "    rc(\"font\", family = \"AppleGothic\")\n",
    "else:\n",
    "    print(\"Check your Os system\")\n",
    "    \n",
    "path = \"c:/Windows/Fonts/NanumSquareR.ttf\"\n",
    "font_name = font_manager.FontProperties(fname=path).get_name()"
   ]
  },
  {
   "cell_type": "code",
   "execution_count": 103,
   "id": "b06a6c37",
   "metadata": {
    "scrolled": false
   },
   "outputs": [
    {
     "data": {
      "image/png": "[encoded data removed]",
      "text/plain": [
       "<Figure size 864x288 with 1 Axes>"
      ]
     },
     "metadata": {
      "needs_background": "light"
     },
     "output_type": "display_data"
    }
   ],
   "source": [
    "plt.rc('font', family = 'Malgun Gothic')\n",
    "plt.figure(figsize = (12,4))\n",
    "plt.bar(bd[\"고객의 지역\"], bd[\"총 방문객 수\"])\n",
    "plt.title(\"지역별 방문객의 수\")\n",
    "plt.xlabel(\"고객의 지역\")\n",
    "plt.ylabel(\"총 방문객 수\")\n",
    "plt.show()"
   ]
  },
  {
   "cell_type": "code",
   "execution_count": null,
   "id": "77e9f0f0",
   "metadata": {},
   "outputs": [],
   "source": []
  }
 ],
 "metadata": {
  "kernelspec": {
   "display_name": "Python 3 (ipykernel)",
   "language": "python",
   "name": "python3"
  },
  "language_info": {
   "codemirror_mode": {
    "name": "ipython",
    "version": 3
   },
   "file_extension": ".py",
   "mimetype": "text/x-python",
   "name": "python",
   "nbconvert_exporter": "python",
   "pygments_lexer": "ipython3",
   "version": "3.10.4"
  }
 },
 "nbformat": 4,
 "nbformat_minor": 5
}
